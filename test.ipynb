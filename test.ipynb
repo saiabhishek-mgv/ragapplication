{
 "cells": [
  {
   "cell_type": "code",
   "execution_count": 2,
   "id": "93f7019d",
   "metadata": {},
   "outputs": [],
   "source": [
    "from langchain_community.document_loaders import CSVLoader"
   ]
  },
  {
   "cell_type": "code",
   "execution_count": 3,
   "id": "71d14654",
   "metadata": {},
   "outputs": [],
   "source": [
    "loader = CSVLoader(\n",
    "    file_path = \"patient_records.csv\"\n",
    ")\n",
    "\n",
    "docs = loader.load()"
   ]
  },
  {
   "cell_type": "code",
   "execution_count": 14,
   "id": "596b77ad",
   "metadata": {},
   "outputs": [
    {
     "name": "stdout",
     "output_type": "stream",
     "text": [
      "patient_id: PT-1005\n",
      "symptoms: Abdominal pain, bloating, diarrhea\n",
      "diagnosis: Irritable Bowel Syndrome\n",
      "treatment: Diet changes, antispasmodic medication\n",
      "doctor_notes: IBS symptoms; recommend low FODMAP diet.\n"
     ]
    }
   ],
   "source": [
    "print(docs[5].page_content)"
   ]
  },
  {
   "cell_type": "code",
   "execution_count": 6,
   "id": "ccca4722",
   "metadata": {},
   "outputs": [
    {
     "data": {
      "text/plain": [
       "[Document(metadata={'source': 'patient_records.csv', 'row': 0}, page_content='patient_id: PT-1000\\nsymptoms: Dizziness, irregular heartbeat, fatigue\\ndiagnosis: Atrial Fibrillation\\ntreatment: Blood thinners, beta-blockers\\ndoctor_notes: Irregular heartbeat detected; cardiology referral made.'),\n",
       " Document(metadata={'source': 'patient_records.csv', 'row': 1}, page_content='patient_id: PT-1001\\nsymptoms: Sharp back pain, numbness in legs\\ndiagnosis: Herniated Disc\\ntreatment: Physical therapy, pain management\\ndoctor_notes: MRI suggested to confirm disc herniation.'),\n",
       " Document(metadata={'source': 'patient_records.csv', 'row': 2}, page_content='patient_id: PT-1002\\nsymptoms: Sharp back pain, numbness in legs\\ndiagnosis: Herniated Disc\\ntreatment: Physical therapy, pain management\\ndoctor_notes: MRI suggested to confirm disc herniation.'),\n",
       " Document(metadata={'source': 'patient_records.csv', 'row': 3}, page_content='patient_id: PT-1003\\nsymptoms: Chest pain, shortness of breath\\ndiagnosis: Angina\\ntreatment: Nitroglycerin, aspirin, lifestyle changes\\ndoctor_notes: Recommend further cardiovascular evaluation.')]"
      ]
     },
     "execution_count": 6,
     "metadata": {},
     "output_type": "execute_result"
    }
   ],
   "source": [
    "docs[0:4]"
   ]
  },
  {
   "cell_type": "code",
   "execution_count": 15,
   "id": "81c764cf",
   "metadata": {},
   "outputs": [],
   "source": [
    "from langchain_community.document_loaders import UnstructuredURLLoader"
   ]
  },
  {
   "cell_type": "code",
   "execution_count": 18,
   "id": "9fadf67a",
   "metadata": {},
   "outputs": [],
   "source": [
    "loader = UnstructuredURLLoader(\n",
    "    urls=[\"https://www.cnbc.com/2025/07/04/apple-f1-artificial-intelligence.html\"], mode=\"elements\", strategy=\"fast\",\n",
    "\n",
    ") \n",
    "docs = loader.load()"
   ]
  },
  {
   "cell_type": "code",
   "execution_count": 19,
   "id": "d954164c",
   "metadata": {},
   "outputs": [
    {
     "data": {
      "text/plain": [
       "4"
      ]
     },
     "execution_count": 19,
     "metadata": {},
     "output_type": "execute_result"
    }
   ],
   "source": [
    "len(docs)"
   ]
  },
  {
   "cell_type": "code",
   "execution_count": 25,
   "id": "7edaa15b",
   "metadata": {},
   "outputs": [
    {
     "data": {
      "text/plain": [
       "Document(metadata={'languages': ['eng'], 'filetype': 'text/html', 'parent_id': 'c2f2ba383ee1599cdd98e1581df10ea9', 'url': 'https://www.cnbc.com/2025/07/04/apple-f1-artificial-intelligence.html', 'category': 'NarrativeText'}, page_content='You don\\'t have permission to access \"http://www.cnbc.com/2025/07/04/apple-f1-artificial-intelligence.html\" on this server.')"
      ]
     },
     "execution_count": 25,
     "metadata": {},
     "output_type": "execute_result"
    }
   ],
   "source": [
    "docs[1]"
   ]
  },
  {
   "cell_type": "code",
   "execution_count": null,
   "id": "0d762851",
   "metadata": {},
   "outputs": [],
   "source": []
  }
 ],
 "metadata": {
  "kernelspec": {
   "display_name": "venv",
   "language": "python",
   "name": "python3"
  },
  "language_info": {
   "codemirror_mode": {
    "name": "ipython",
    "version": 3
   },
   "file_extension": ".py",
   "mimetype": "text/x-python",
   "name": "python",
   "nbconvert_exporter": "python",
   "pygments_lexer": "ipython3",
   "version": "3.11.5"
  }
 },
 "nbformat": 4,
 "nbformat_minor": 5
}
